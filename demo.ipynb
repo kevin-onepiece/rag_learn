{
 "cells": [
  {
   "metadata": {},
   "cell_type": "markdown",
   "source": [
    "1. tuple 元组  不可变 如果只有一个元素，必须加逗号\n",
    "2. dict 字典 键值对\n",
    "3. list 列表 有序 可变\n",
    "4. set 集合 无序 可变 不可重复\n",
    "    - discard 和 remove 的区别 discard 删除不存在的元素不会报错 而 remove 会报错"
   ],
   "id": "400d3b01592a1c17"
  },
  {
   "metadata": {
    "collapsed": true,
    "ExecuteTime": {
     "end_time": "2025-08-30T11:24:42.934628Z",
     "start_time": "2025-08-30T11:24:42.931652Z"
    }
   },
   "cell_type": "code",
   "source": [
    "a_tuple = 8, 9\n",
    "a_tuple\n",
    "print(type(a_tuple))\n",
    "a_tuple[1]\n",
    "a_tuple.index(8)\n",
    "a_tuple.count(8)"
   ],
   "id": "e5aac0eefd4aff87",
   "outputs": [
    {
     "name": "stdout",
     "output_type": "stream",
     "text": [
      "<class 'tuple'>\n"
     ]
    },
    {
     "data": {
      "text/plain": [
       "1"
      ]
     },
     "execution_count": 46,
     "metadata": {},
     "output_type": "execute_result"
    }
   ],
   "execution_count": 46
  },
  {
   "metadata": {
    "ExecuteTime": {
     "end_time": "2025-08-30T11:30:58.463228Z",
     "start_time": "2025-08-30T11:30:58.459936Z"
    }
   },
   "cell_type": "code",
   "source": [
    "a_dict = {\"key_1\": \"value_1\"}\n",
    "print(type(a_dict))\n",
    "a_dict['key_1'] = \"value_2\"\n",
    "a_dict.keys()\n",
    "a_dict.items()\n",
    "a_dict.update({\"key_2\": \"value_2\"})\n",
    "# a_dict.pop('key_1')\n",
    "a_dict"
   ],
   "id": "9aa9f0ef3721aa93",
   "outputs": [
    {
     "name": "stdout",
     "output_type": "stream",
     "text": [
      "<class 'dict'>\n"
     ]
    },
    {
     "data": {
      "text/plain": [
       "{'key_1': 'value_2', 'key_2': 'value_2'}"
      ]
     },
     "execution_count": 54,
     "metadata": {},
     "output_type": "execute_result"
    }
   ],
   "execution_count": 54
  },
  {
   "metadata": {
    "ExecuteTime": {
     "end_time": "2025-08-30T11:31:20.154217Z",
     "start_time": "2025-08-30T11:31:20.151309Z"
    }
   },
   "cell_type": "code",
   "source": [
    "a_list = [1, 2, 3]\n",
    "print(type(a_list))\n",
    "a_list[1]\n",
    "a_list.append(5)\n",
    "a_list.pop()"
   ],
   "id": "581e65bc6206d005",
   "outputs": [
    {
     "name": "stdout",
     "output_type": "stream",
     "text": [
      "<class 'list'>\n"
     ]
    },
    {
     "data": {
      "text/plain": [
       "5"
      ]
     },
     "execution_count": 56,
     "metadata": {},
     "output_type": "execute_result"
    }
   ],
   "execution_count": 56
  },
  {
   "metadata": {
    "ExecuteTime": {
     "end_time": "2025-08-30T11:22:26.481273Z",
     "start_time": "2025-08-30T11:22:26.477764Z"
    }
   },
   "cell_type": "code",
   "source": [
    "a_set = {1, 2, 3}\n",
    "print(type(a_set))\n",
    "a_set.add(4)\n",
    "a_set.remove(1)\n",
    "a_set.pop()  # 弹出一个元素\n",
    "a_set.clear()\n",
    "a_set.discard(2) # 删除元素\n",
    "# discard 和 remove 的区别\n",
    "a_set\n"
   ],
   "id": "a42833dfd16141b9",
   "outputs": [
    {
     "name": "stdout",
     "output_type": "stream",
     "text": [
      "<class 'set'>\n"
     ]
    },
    {
     "data": {
      "text/plain": [
       "{3, 4}"
      ]
     },
     "execution_count": 40,
     "metadata": {},
     "output_type": "execute_result"
    }
   ],
   "execution_count": 40
  }
 ],
 "metadata": {
  "kernelspec": {
   "display_name": "Python 3",
   "language": "python",
   "name": "python3"
  },
  "language_info": {
   "codemirror_mode": {
    "name": "ipython",
    "version": 2
   },
   "file_extension": ".py",
   "mimetype": "text/x-python",
   "name": "python",
   "nbconvert_exporter": "python",
   "pygments_lexer": "ipython2",
   "version": "2.7.6"
  }
 },
 "nbformat": 4,
 "nbformat_minor": 5
}
