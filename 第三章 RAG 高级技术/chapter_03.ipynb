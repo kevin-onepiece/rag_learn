{
 "cells": [
  {
   "cell_type": "code",
   "id": "initial_id",
   "metadata": {
    "collapsed": true,
    "ExecuteTime": {
     "end_time": "2025-09-23T01:56:53.966750Z",
     "start_time": "2025-09-23T01:56:48.699598Z"
    }
   },
   "source": [
    "import os\n",
    "from multiprocessing.process import parent_process\n",
    "\n",
    "from langchain.retrievers import MultiQueryRetriever\n",
    "from langchain_community.callbacks.fiddler_callback import MODEL_NAME\n",
    "from langchain_community.embeddings import DashScopeEmbeddings\n",
    "from langchain_community.vectorstores import FAISS\n",
    "from langchain_openai import ChatOpenAI\n",
    "\n",
    "API_KEY = os.getenv(\"DASHSCOPE_API_KEY\")\n",
    "llm = ChatOpenAI(api_key=API_KEY, base_url=\"https://dashscope.aliyuncs.com/compatible-mode/v1\", model=\"qwen-max\")\n",
    "\n",
    "# 创建嵌入模型\n",
    "embeddings = DashScopeEmbeddings(model=\"text-embedding-v2\", dashscope_api_key=API_KEY)\n",
    "\n",
    "# 加载向量数据库\n",
    "vector_store = FAISS.load_local(\"../第二章/vector_db\", embeddings, allow_dangerous_deserialization=True)\n",
    "\n",
    "retriever = MultiQueryRetriever.from_llm(llm=llm, retriever=vector_store.as_retriever())\n",
    "\n",
    "query = \"客户经理被投诉了，投诉一次扣多少分\"\n",
    "\n",
    "documents = retriever.get_relevant_documents(query)\n",
    "import pprint\n",
    "# retriever\n",
    "pprint.pprint(retriever)\n",
    "pprint.pprint(documents)\n",
    "# documents[0]\n",
    "count = 0\n",
    "# for document in documents:\n",
    "#     count += 1\n",
    "#     pprint.pprint(str(count) + document.page_content)\n",
    "\n",
    "for i, content in enumerate(documents):\n",
    "    pprint.pprint(str(count) + content.page_content)"
   ],
   "outputs": [
    {
     "name": "stderr",
     "output_type": "stream",
     "text": [
      "/opt/miniconda3/envs/agent/lib/python3.12/site-packages/requests/__init__.py:86: RequestsDependencyWarning: Unable to find acceptable character detection dependency (chardet or charset_normalizer).\n",
      "  warnings.warn(\n",
      "/var/folders/jl/4f3x_qrs18zdzt62kb6pz38c0000gn/T/ipykernel_2222/3096919073.py:21: LangChainDeprecationWarning: The method `BaseRetriever.get_relevant_documents` was deprecated in langchain-core 0.1.46 and will be removed in 1.0. Use :meth:`~invoke` instead.\n",
      "  documents = retriever.get_relevant_documents(query)\n"
     ]
    },
    {
     "name": "stdout",
     "output_type": "stream",
     "text": [
      "MultiQueryRetriever(retriever=VectorStoreRetriever(tags=['FAISS', 'DashScopeEmbeddings'], vectorstore=<langchain_community.vectorstores.faiss.FAISS object at 0x127085880>, search_kwargs={}), llm_chain=PromptTemplate(input_variables=['question'], input_types={}, partial_variables={}, template='You are an AI language model assistant. Your task is \\n    to generate 3 different versions of the given user \\n    question to retrieve relevant documents from a vector  database. \\n    By generating multiple perspectives on the user question, \\n    your goal is to help the user overcome some of the limitations \\n    of distance-based similarity search. Provide these alternative \\n    questions separated by newlines. Original question: {question}')\n",
      "| ChatOpenAI(client=<openai.resources.chat.completions.completions.Completions object at 0x124aa4aa0>, async_client=<openai.resources.chat.completions.completions.AsyncCompletions object at 0x124bac320>, root_client=<openai.OpenAI object at 0x107d35550>, root_async_client=<openai.AsyncOpenAI object at 0x124b85b50>, model_name='qwen-max', model_kwargs={}, openai_api_key=SecretStr('**********'), openai_api_base='https://dashscope.aliyuncs.com/compatible-mode/v1')\n",
      "| LineListOutputParser())\n",
      "[Document(metadata={}, page_content='4、未能及时参加分行（支行）组织的各种业务培训、考试和专\\n题活动的每次扣 2分； \\n5、未按规定要求进行贷前调查、贷后检查工作的，每笔扣 5分； \\n6、未建立信贷台帐资料及档案的每笔扣 5分； \\n7、在工作中有不廉洁自律情况的每发现一次扣 50分。 \\n（二）个人资产质量考核：  \\n当季考核收息率 97%以上为合格，每降 1个百分点扣 2分；不\\n良资产零为合格，每超一个个百分点扣 1分。 \\nA.发生跨月逾期，单笔不超过 10万元，当季收回者，扣 1分。 \\nB.发生跨月逾期， 2笔以上累计金额不超过 20万元，当季收回\\n者，扣 2分；累计超过 20万元以上的，扣 4分。 百度文库  - 好好学习，天天向上  \\n-6 C.发生逾期超过 3个月，无论金额大小和笔数，扣 10分。 \\n \\n第六章  聘任考核程序  \\n第十条   凡达到本办法第三章规定的该技术职务所要求的行内职\\n工，都可向分行人力资源部申报个金客户经理评聘。  \\n第十一条   每年一月份为客户经理评聘的申报时间，由分行人力\\n资源部、个人业务部每年二月份组织统一的资格考试。考试合格者由\\n分行颁发个金客户经理资格证书，其有效期为一年。'),\n",
      " Document(metadata={}, page_content='理待遇按照人事部门对付科级的待遇标准； 资深客户经理待遇 按照人\\n事部门对正科级的待遇标准。  \\n业绩奖励收入是指客户经理每个业绩考核期间的实际业绩所给\\n与兑现的奖金部分。  \\n日常工作绩效收入是按照个金客户经理所从事的事务性工作进\\n行定量化考核，经过工作的完成情况进行奖金分配。该项奖金主要由\\n个人金融部总经理和各支行的行长其从事个人金融业务的人员进行\\n分配，主要侧重分配于从事个金业务的基础工作和创新工作。  百度文库  - 好好学习，天天向上  \\n-8 第十五条   各项考核分值总计达到某一档行员级别考核分值标\\n准，个金客户经理即可在下一季度享受该级行员的薪资标准。下一季\\n度考核时，按照已享受行员级别考核折算比值进行考核，以次类推。  \\n第十六条   对已聘为各级客户经理的人员，当工作业绩考核达不\\n到相应技术职务要求下限时，下一年技术职务相应下调 。 \\n第十七条   为保护个人业务客户经理创业的积极性，暂定其收入\\n构成中基础薪点不低于 40%。 \\n \\n第八章  管理与奖惩  \\n第十八条   个金客户经理管理机构为分行客户经理管理委员会。\\n管理委员会组成人员：行长或主管业务副行长，个人业务部、人力资'),\n",
      " Document(metadata={}, page_content='3.有效卡的概念：每张卡月均余额为 100元以上。  \\n4.个贷业务（季新增发放个贷）为中级以上客户经理考核进入的最低标准。  \\n5.超出最低考核标准可相互折算，折算标准： 50万储蓄 =50万个贷 =50张有效卡 =5分（折算以 5分为单位）  \\n \\n 百度文库  - 好好学习，天天向上  \\n-5 第五章  工作质量考核标准  \\n第九条   工作质量考核实行扣分制。工作质量指个金客户经理在\\n从事所有个人业务时出现投诉、差错及风险。该项考核最多扣 50分，\\n如发生重大差错事故，按分行有关制度处理。  \\n（一）服务质量考核：   \\n1、工作责任心不强，缺乏配合协作精神；扣 5分 \\n2、客户服务效率低，态度生硬或不及时为客户提供维护服务，\\n有客户投诉的 ,每投诉一次扣 2分 \\n3、不服从支行工作安排，不认真参加分（支）行宣传活动的，\\n每次扣 2分； \\n4、未能及时参加分行（支行）组织的各种业务培训、考试和专\\n题活动的每次扣 2分； \\n5、未按规定要求进行贷前调查、贷后检查工作的，每笔扣 5分； \\n6、未建立信贷台帐资料及档案的每笔扣 5分； \\n7、在工作中有不廉洁自律情况的每发现一次扣 50分。'),\n",
      " Document(metadata={}, page_content='第十七条   为保护个人业务客户经理创业的积极性，暂定其收入\\n构成中基础薪点不低于 40%。 \\n \\n第八章  管理与奖惩  \\n第十八条   个金客户经理管理机构为分行客户经理管理委员会。\\n管理委员会组成人员：行长或主管业务副行长，个人业务部、人力资\\n源部、风险管理部负责人。  \\n第十九条   客户经理申报的各种信息必须真实。分行个人业务部\\n需对其工作业绩数据进行核实，并对其真实性负责；分行人事部门需\\n对其学历、工作阅历等基本信息进行核实，并对其真实性负责。  \\n第二十条   对因工作不负责任使资产质量产生严重风险或造成损\\n失的给予降级直至开 除处分，构成渎职罪的提请司法部门追究刑事责\\n任。 \\n 百度文库  - 好好学习，天天向上  \\n-9 第九章  附    则 \\n第二十一条   本办法自发布之日起执行。  \\n第二十二条   本办法由上海浦东发展银行西安分行行负责解释和\\n修改。'),\n",
      " Document(metadata={}, page_content='评聘技术职务较低的市场人员，各级领导要加大培养力度，使其尽快百度文库  - 好好学习，天天向上  \\n-7 入围，并由所在行制定临时奖励办法。  \\n \\n第七章   考核待遇  \\n第十五条   个人金融业务客户经理的收入基本由三部分组成： 客\\n户经理等级基本收入、业绩奖励收入和日常工作绩效收入。  \\n客户经理等级基本收入是指客户经理的每月基本收入， 基本分为\\n助理客户经理、客户经理、高级客户经理和资深客户经理四大层面，\\n在每一层面分为若干等级。  \\n客户经理的等级标准由客户经理在上年的业绩为核定标准， 如果\\n客户经理在我行第一次进行客户经理评级， 以客户经理自我评价为主\\n要依据，结合客户经理以往工作经验，由个人金融部、人事部门共同\\n最终决定客户经理的等级。  \\n助理客户经理待遇按照人事部门对主办科员以下人员的待遇标\\n准；客户经理待遇按照人事部门对主办科员的待遇标准；高级客户经\\n理待遇按照人事部门对付科级的待遇标准； 资深客户经理待遇 按照人\\n事部门对正科级的待遇标准。  \\n业绩奖励收入是指客户经理每个业绩考核期间的实际业绩所给\\n与兑现的奖金部分。  \\n日常工作绩效收入是按照个金客户经理所从事的事务性工作进')]\n",
      "('04、未能及时参加分行（支行）组织的各种业务培训、考试和专\\n'\n",
      " '题活动的每次扣 2分； \\n'\n",
      " '5、未按规定要求进行贷前调查、贷后检查工作的，每笔扣 5分； \\n'\n",
      " '6、未建立信贷台帐资料及档案的每笔扣 5分； \\n'\n",
      " '7、在工作中有不廉洁自律情况的每发现一次扣 50分。 \\n'\n",
      " '（二）个人资产质量考核：  \\n'\n",
      " '当季考核收息率 97%以上为合格，每降 1个百分点扣 2分；不\\n'\n",
      " '良资产零为合格，每超一个个百分点扣 1分。 \\n'\n",
      " 'A.发生跨月逾期，单笔不超过 10万元，当季收回者，扣 1分。 \\n'\n",
      " 'B.发生跨月逾期， 2笔以上累计金额不超过 20万元，当季收回\\n'\n",
      " '者，扣 2分；累计超过 20万元以上的，扣 4分。 百度文库  - 好好学习，天天向上  \\n'\n",
      " '-6 C.发生逾期超过 3个月，无论金额大小和笔数，扣 10分。 \\n'\n",
      " ' \\n'\n",
      " '第六章  聘任考核程序  \\n'\n",
      " '第十条   凡达到本办法第三章规定的该技术职务所要求的行内职\\n'\n",
      " '工，都可向分行人力资源部申报个金客户经理评聘。  \\n'\n",
      " '第十一条   每年一月份为客户经理评聘的申报时间，由分行人力\\n'\n",
      " '资源部、个人业务部每年二月份组织统一的资格考试。考试合格者由\\n'\n",
      " '分行颁发个金客户经理资格证书，其有效期为一年。')\n",
      "('0理待遇按照人事部门对付科级的待遇标准； 资深客户经理待遇 按照人\\n'\n",
      " '事部门对正科级的待遇标准。  \\n'\n",
      " '业绩奖励收入是指客户经理每个业绩考核期间的实际业绩所给\\n'\n",
      " '与兑现的奖金部分。  \\n'\n",
      " '日常工作绩效收入是按照个金客户经理所从事的事务性工作进\\n'\n",
      " '行定量化考核，经过工作的完成情况进行奖金分配。该项奖金主要由\\n'\n",
      " '个人金融部总经理和各支行的行长其从事个人金融业务的人员进行\\n'\n",
      " '分配，主要侧重分配于从事个金业务的基础工作和创新工作。  百度文库  - 好好学习，天天向上  \\n'\n",
      " '-8 第十五条   各项考核分值总计达到某一档行员级别考核分值标\\n'\n",
      " '准，个金客户经理即可在下一季度享受该级行员的薪资标准。下一季\\n'\n",
      " '度考核时，按照已享受行员级别考核折算比值进行考核，以次类推。  \\n'\n",
      " '第十六条   对已聘为各级客户经理的人员，当工作业绩考核达不\\n'\n",
      " '到相应技术职务要求下限时，下一年技术职务相应下调 。 \\n'\n",
      " '第十七条   为保护个人业务客户经理创业的积极性，暂定其收入\\n'\n",
      " '构成中基础薪点不低于 40%。 \\n'\n",
      " ' \\n'\n",
      " '第八章  管理与奖惩  \\n'\n",
      " '第十八条   个金客户经理管理机构为分行客户经理管理委员会。\\n'\n",
      " '管理委员会组成人员：行长或主管业务副行长，个人业务部、人力资')\n",
      "('03.有效卡的概念：每张卡月均余额为 100元以上。  \\n'\n",
      " '4.个贷业务（季新增发放个贷）为中级以上客户经理考核进入的最低标准。  \\n'\n",
      " '5.超出最低考核标准可相互折算，折算标准： 50万储蓄 =50万个贷 =50张有效卡 =5分（折算以 5分为单位）  \\n'\n",
      " ' \\n'\n",
      " ' 百度文库  - 好好学习，天天向上  \\n'\n",
      " '-5 第五章  工作质量考核标准  \\n'\n",
      " '第九条   工作质量考核实行扣分制。工作质量指个金客户经理在\\n'\n",
      " '从事所有个人业务时出现投诉、差错及风险。该项考核最多扣 50分，\\n'\n",
      " '如发生重大差错事故，按分行有关制度处理。  \\n'\n",
      " '（一）服务质量考核：   \\n'\n",
      " '1、工作责任心不强，缺乏配合协作精神；扣 5分 \\n'\n",
      " '2、客户服务效率低，态度生硬或不及时为客户提供维护服务，\\n'\n",
      " '有客户投诉的 ,每投诉一次扣 2分 \\n'\n",
      " '3、不服从支行工作安排，不认真参加分（支）行宣传活动的，\\n'\n",
      " '每次扣 2分； \\n'\n",
      " '4、未能及时参加分行（支行）组织的各种业务培训、考试和专\\n'\n",
      " '题活动的每次扣 2分； \\n'\n",
      " '5、未按规定要求进行贷前调查、贷后检查工作的，每笔扣 5分； \\n'\n",
      " '6、未建立信贷台帐资料及档案的每笔扣 5分； \\n'\n",
      " '7、在工作中有不廉洁自律情况的每发现一次扣 50分。')\n",
      "('0第十七条   为保护个人业务客户经理创业的积极性，暂定其收入\\n'\n",
      " '构成中基础薪点不低于 40%。 \\n'\n",
      " ' \\n'\n",
      " '第八章  管理与奖惩  \\n'\n",
      " '第十八条   个金客户经理管理机构为分行客户经理管理委员会。\\n'\n",
      " '管理委员会组成人员：行长或主管业务副行长，个人业务部、人力资\\n'\n",
      " '源部、风险管理部负责人。  \\n'\n",
      " '第十九条   客户经理申报的各种信息必须真实。分行个人业务部\\n'\n",
      " '需对其工作业绩数据进行核实，并对其真实性负责；分行人事部门需\\n'\n",
      " '对其学历、工作阅历等基本信息进行核实，并对其真实性负责。  \\n'\n",
      " '第二十条   对因工作不负责任使资产质量产生严重风险或造成损\\n'\n",
      " '失的给予降级直至开 除处分，构成渎职罪的提请司法部门追究刑事责\\n'\n",
      " '任。 \\n'\n",
      " ' 百度文库  - 好好学习，天天向上  \\n'\n",
      " '-9 第九章  附    则 \\n'\n",
      " '第二十一条   本办法自发布之日起执行。  \\n'\n",
      " '第二十二条   本办法由上海浦东发展银行西安分行行负责解释和\\n'\n",
      " '修改。')\n",
      "('0评聘技术职务较低的市场人员，各级领导要加大培养力度，使其尽快百度文库  - 好好学习，天天向上  \\n'\n",
      " '-7 入围，并由所在行制定临时奖励办法。  \\n'\n",
      " ' \\n'\n",
      " '第七章   考核待遇  \\n'\n",
      " '第十五条   个人金融业务客户经理的收入基本由三部分组成： 客\\n'\n",
      " '户经理等级基本收入、业绩奖励收入和日常工作绩效收入。  \\n'\n",
      " '客户经理等级基本收入是指客户经理的每月基本收入， 基本分为\\n'\n",
      " '助理客户经理、客户经理、高级客户经理和资深客户经理四大层面，\\n'\n",
      " '在每一层面分为若干等级。  \\n'\n",
      " '客户经理的等级标准由客户经理在上年的业绩为核定标准， 如果\\n'\n",
      " '客户经理在我行第一次进行客户经理评级， 以客户经理自我评价为主\\n'\n",
      " '要依据，结合客户经理以往工作经验，由个人金融部、人事部门共同\\n'\n",
      " '最终决定客户经理的等级。  \\n'\n",
      " '助理客户经理待遇按照人事部门对主办科员以下人员的待遇标\\n'\n",
      " '准；客户经理待遇按照人事部门对主办科员的待遇标准；高级客户经\\n'\n",
      " '理待遇按照人事部门对付科级的待遇标准； 资深客户经理待遇 按照人\\n'\n",
      " '事部门对正科级的待遇标准。  \\n'\n",
      " '业绩奖励收入是指客户经理每个业绩考核期间的实际业绩所给\\n'\n",
      " '与兑现的奖金部分。  \\n'\n",
      " '日常工作绩效收入是按照个金客户经理所从事的事务性工作进')\n"
     ]
    }
   ],
   "execution_count": 1
  },
  {
   "metadata": {
    "ExecuteTime": {
     "end_time": "2025-09-23T04:06:31.252881Z",
     "start_time": "2025-09-23T04:06:31.153911Z"
    }
   },
   "cell_type": "code",
   "source": [
    "# RAGAs评估\n",
    "from langchain.document_loaders import PyPDFLoader\n",
    "\n",
    "docs = PyPDFLoader(\"../浦发上海浦东发展银行西安分行个金客户经理考核办法.pdf\").load()\n",
    "docs"
   ],
   "id": "9cc6f39d335c69af",
   "outputs": [
    {
     "data": {
      "text/plain": [
       "[Document(metadata={'source': '../浦发上海浦东发展银行西安分行个金客户经理考核办法.pdf', 'page': 0}, page_content='百度文库 - 好好学习，天天向上 \\n-1 \\n上海浦东发展银行西安分行 \\n个金客户经理管理考核暂行办法 \\n \\n \\n第一章  总   则 \\n第一条  为保证我分行个金客户经理制的顺利实施，有效调动个\\n金客户经理的积极性， 促进个金业务快速、 稳定地发展， 根据总行 《上\\n海浦东发展银行个人金融营销体系建设方案（试行）》要求，特制定\\n《上海浦东发展银行西安分行个金客户经理管理考核暂行办法（试\\n行）》（以下简称本办法）。 \\n第二条  个金客户经理系指各支行（营业部）从事个人金融产品\\n营销与市场开拓，为我行个人客户提供综合银行服务的我行市场人\\n员。 \\n第三条  考核内容分为二大类， 即个人业绩考核、 工作质量考核。\\n个人业绩包括个人资产业务、负债业务、卡业务。工作质量指个人业\\n务的资产质量。 \\n第四条  为规范激励规则，客户经理的技术职务和薪资实行每年\\n考核浮动。客户经理的奖金实行每季度考核浮动，即客户经理按其考\\n核内容得分与行员等级结合，享受对应的行员等级待遇。 \\n '),\n",
       " Document(metadata={'source': '../浦发上海浦东发展银行西安分行个金客户经理考核办法.pdf', 'page': 1}, page_content='百度文库 - 好好学习，天天向上 \\n-2 \\n第二章  职位设置与职责 \\n第五条  个金客户经理职位设置为：客户经理助理、客户经理、\\n高级客户经理、资深客户经理。 \\n第六条  个金客户经理的基本职责： \\n（一）  客户开发。研究客户信息、联系与选择客户、与客户建\\n立相互依存、相互支持的业务往来关系，扩大业务资源，创造良好业\\n绩； \\n（二）业务创新与产品营销。把握市场竞争变化方向，开展市场\\n与客户需求的调研，对业务产品及服务进行创新；设计客户需求的产\\n品组合、制订和实施市场营销方案； \\n（三）客户服务。负责我行各类表内外授信业务及中间业务的受\\n理和运作，进行综合性、整体性的客户服务； \\n（四）防范风险，提高收益。提升风险防范意识及能力，提高经\\n营产品质量； \\n（五）培养人材。在提高自身综合素质的同时，发扬团队精神，\\n培养后备业务骨干。 \\n '),\n",
       " Document(metadata={'source': '../浦发上海浦东发展银行西安分行个金客户经理考核办法.pdf', 'page': 2}, page_content='百度文库 - 好好学习，天天向上 \\n-3 \\n第三章  基础素质要求 \\n第七条  个金客户经理准入条件： \\n（一）工作经历：须具备大专以上学历，至少二年以上银行工作\\n经验。 \\n（二）工作能力：熟悉我行的各项业务，了解市场情况，熟悉各\\n类客户的金融需求，熟悉个人理财工具，有一定的业务管理和客户管\\n理能力。 \\n（三）工作业绩：个金客户经理均应达到相应等级的准入标准。\\n该标准可根据全行整体情况由考核部门进行调整。 \\n（四）专业培训：个金客户经理应参加有关部门组织的专业培训\\n并通过业务考试。 \\n（五）符合分行人事管理和专业管理的要求。 \\n第四章  个人业绩考核标准 \\n第八条  个金客户经理个人业绩以储蓄季日均、季有效净增发卡\\n量、季净增个贷余额三项业务为主要考核指标，实行季度考核。具体\\n标准如下： \\n \\n    \\n类别 行员级别 考核分值 准入标准 \\n储蓄业务 个贷业务 卡业务 \\n客户经理助理 5 90 300 万  500 张 \\n4 95  '),\n",
       " Document(metadata={'source': '../浦发上海浦东发展银行西安分行个金客户经理考核办法.pdf', 'page': 3}, page_content='百度文库 - 好好学习，天天向上 \\n-4 \\n3 100  \\n2 105  \\n1 110  \\n客户经理 5 115 300 万  500 张 \\n4 120  \\n3 125  \\n2 130  \\n1 135  \\n高级客户经理 5 140 500 万 800 万  \\n4 145  \\n3 150  \\n2 155  \\n1 160  \\n资深客户经理 5 165 500 万 800 万  \\n4 170  \\n3 175  \\n2 180  \\n1 185  \\n说明：1.储蓄业务（季日均余额）为各类个金客户经理考核进入的最低标准。  \\n2.卡业务（季新增发有效卡量）为见习、D 类、初级客户经理进入的最低标准。 \\n3.有效卡的概念：每张卡月均余额为 100 元以上。 \\n4.个贷业务（季新增发放个贷）为中级以上客户经理考核进入的最低标准。 \\n5.超出最低考核标准可相互折算，折算标准：50 万储蓄=50 万个贷=50 张有效卡=5 分（折算以 5 分为单位） \\n \\n '),\n",
       " Document(metadata={'source': '../浦发上海浦东发展银行西安分行个金客户经理考核办法.pdf', 'page': 4}, page_content='百度文库 - 好好学习，天天向上 \\n-5 \\n第五章  工作质量考核标准 \\n第九条  工作质量考核实行扣分制。工作质量指个金客户经理在\\n从事所有个人业务时出现投诉、差错及风险。该项考核最多扣50 分，\\n如发生重大差错事故，按分行有关制度处理。 \\n（一）服务质量考核：  \\n1、工作责任心不强，缺乏配合协作精神；扣5 分 \\n2、客户服务效率低，态度生硬或不及时为客户提供维护服务，\\n有客户投诉的,每投诉一次扣2 分 \\n3、不服从支行工作安排，不认真参加分（支）行宣传活动的，\\n每次扣2 分； \\n4、未能及时参加分行（支行）组织的各种业务培训、考试和专\\n题活动的每次扣2 分； \\n5、未按规定要求进行贷前调查、贷后检查工作的，每笔扣5 分； \\n6、未建立信贷台帐资料及档案的每笔扣5 分； \\n7、在工作中有不廉洁自律情况的每发现一次扣50 分。 \\n（二）个人资产质量考核： \\n当季考核收息率97%以上为合格，每降1 个百分点扣2 分；不\\n良资产零为合格，每超一个个百分点扣1 分。 \\nA.发生跨月逾期，单笔不超过10 万元，当季收回者，扣1 分。 \\nB.发生跨月逾期，2 笔以上累计金额不超过20 万元，当季收回\\n者，扣2 分；累计超过20 万元以上的，扣4 分。 '),\n",
       " Document(metadata={'source': '../浦发上海浦东发展银行西安分行个金客户经理考核办法.pdf', 'page': 5}, page_content='百度文库 - 好好学习，天天向上 \\n-6 \\nC.发生逾期超过3 个月，无论金额大小和笔数，扣10 分。 \\n \\n第六章  聘任考核程序 \\n第十条  凡达到本办法第三章规定的该技术职务所要求的行内职\\n工，都可向分行人力资源部申报个金客户经理评聘。 \\n第十一条  每年一月份为客户经理评聘的申报时间，由分行人力\\n资源部、个人业务部每年二月份组织统一的资格考试。考试合格者由\\n分行颁发个金客户经理资格证书，其有效期为一年。 \\n第十二条  客户经理聘任实行开放式、浮动制，即：本人申报 —\\n— 所在部门推荐 —— 分行考核 —— 行长聘任 —— 每年考评\\n调整浮动。  \\n第十三条  特别聘任： \\n（一）经分行同意录用从其他单位调入的个金客户经理，由用人\\n单位按D 类人员进行考核， 薪资待遇按其业绩享受行内正式行员工同\\n等待遇。待正式转正后按第十一条规定申报技术职务。 \\n（二）对为我行业务创新、工作业绩等方面做出重大贡献的市场\\n人员经支行推荐、分行行长批准可越级聘任。 \\n第十四条  对于创利业绩较高，而暂未入围技术职务系列，或所\\n评聘技术职务较低的市场人员，各级领导要加大培养力度，使其尽快'),\n",
       " Document(metadata={'source': '../浦发上海浦东发展银行西安分行个金客户经理考核办法.pdf', 'page': 6}, page_content='百度文库 - 好好学习，天天向上 \\n-7 \\n入围，并由所在行制定临时奖励办法。 \\n \\n第七章  考核待遇 \\n第十五条  个人金融业务客户经理的收入基本由三部分组成： 客\\n户经理等级基本收入、业绩奖励收入和日常工作绩效收入。 \\n客户经理等级基本收入是指客户经理的每月基本收入， 基本分为\\n助理客户经理、客户经理、高级客户经理和资深客户经理四大层面，\\n在每一层面分为若干等级。 \\n客户经理的等级标准由客户经理在上年的业绩为核定标准， 如果\\n客户经理在我行第一次进行客户经理评级， 以客户经理自我评价为主\\n要依据，结合客户经理以往工作经验，由个人金融部、人事部门共同\\n最终决定客户经理的等级。 \\n助理客户经理待遇按照人事部门对主办科员以下人员的待遇标\\n准；客户经理待遇按照人事部门对主办科员的待遇标准；高级客户经\\n理待遇按照人事部门对付科级的待遇标准； 资深客户经理待遇按照人\\n事部门对正科级的待遇标准。 \\n业绩奖励收入是指客户经理每个业绩考核期间的实际业绩所给\\n与兑现的奖金部分。 \\n日常工作绩效收入是按照个金客户经理所从事的事务性工作进\\n行定量化考核，经过工作的完成情况进行奖金分配。该项奖金主要由\\n个人金融部总经理和各支行的行长其从事个人金融业务的人员进行\\n分配，主要侧重分配于从事个金业务的基础工作和创新工作。 '),\n",
       " Document(metadata={'source': '../浦发上海浦东发展银行西安分行个金客户经理考核办法.pdf', 'page': 7}, page_content='百度文库 - 好好学习，天天向上 \\n-8 \\n第十五条  各项考核分值总计达到某一档行员级别考核分值标\\n准，个金客户经理即可在下一季度享受该级行员的薪资标准。下一季\\n度考核时，按照已享受行员级别考核折算比值进行考核，以次类推。 \\n第十六条  对已聘为各级客户经理的人员，当工作业绩考核达不\\n到相应技术职务要求下限时，下一年技术职务相应下调。 \\n第十七条  为保护个人业务客户经理创业的积极性，暂定其收入\\n构成中基础薪点不低于40%。 \\n \\n第八章  管理与奖惩 \\n第十八条  个金客户经理管理机构为分行客户经理管理委员会。\\n管理委员会组成人员：行长或主管业务副行长，个人业务部、人力资\\n源部、风险管理部负责人。 \\n第十九条  客户经理申报的各种信息必须真实。分行个人业务部\\n需对其工作业绩数据进行核实，并对其真实性负责；分行人事部门需\\n对其学历、工作阅历等基本信息进行核实，并对其真实性负责。 \\n第二十条  对因工作不负责任使资产质量产生严重风险或造成损\\n失的给予降级直至开除处分，构成渎职罪的提请司法部门追究刑事责\\n任。 \\n '),\n",
       " Document(metadata={'source': '../浦发上海浦东发展银行西安分行个金客户经理考核办法.pdf', 'page': 8}, page_content='百度文库 - 好好学习，天天向上 \\n-9 \\n第九章  附    则 \\n第二十一条  本办法自发布之日起执行。 \\n第二十二条  本办法由上海浦东发展银行西安分行行负责解释和\\n修改。 \\n ')]"
      ]
     },
     "execution_count": 15,
     "metadata": {},
     "output_type": "execute_result"
    }
   ],
   "execution_count": 15
  },
  {
   "metadata": {
    "ExecuteTime": {
     "end_time": "2025-09-23T04:06:38.507437Z",
     "start_time": "2025-09-23T04:06:34.007579Z"
    }
   },
   "cell_type": "code",
   "source": [
    "import os\n",
    "from langchain_community.embeddings import DashScopeEmbeddings\n",
    "from langchain_community.llms import Tongyi\n",
    "from langchain.text_splitter import RecursiveCharacterTextSplitter\n",
    "from langchain.retrievers import ParentDocumentRetriever\n",
    "from langchain.storage import InMemoryStore\n",
    "from langchain.vectorstores import Chroma\n",
    "\n",
    "# 初始化大模型\n",
    "DASHSCOPE_API_KEY = os.getenv(\"DASHSCOPE_API_KEY\")\n",
    "llm = Tongyi(api_key=DASHSCOPE_API_KEY, model_name=\"qwen-max\")\n",
    "\n",
    "# 创建嵌入模型\n",
    "embeddings = DashScopeEmbeddings(model=\"text-embedding-v3\", dashscope_api_key=DASHSCOPE_API_KEY)\n",
    "\n",
    "# 创建主文档分割器\n",
    "parent_splitter = RecursiveCharacterTextSplitter(chunk_size=512)\n",
    "\n",
    "# 创建子文档分割器\n",
    "child_splitter = RecursiveCharacterTextSplitter(chunk_size=256)\n",
    "\n",
    "# 创建向量数据库\n",
    "vectorstore = Chroma(collection_name=\"split_parents\", embedding_function=embeddings)\n",
    "\n",
    "# 创建内存存储对象\n",
    "store = InMemoryStore()\n",
    "# 创建父文档检索器\n",
    "retriever = ParentDocumentRetriever(vectorstore=vectorstore, docstore=store, child_splitter=child_splitter,\n",
    "                                             parent_splitter=parent_splitter, search_kwargs={\"k\": 2})\n",
    "# 添加文档集\n",
    "retriever.add_documents(docs)"
   ],
   "id": "f007121c18fd6234",
   "outputs": [],
   "execution_count": 16
  },
  {
   "metadata": {
    "ExecuteTime": {
     "end_time": "2025-09-23T03:39:10.608535Z",
     "start_time": "2025-09-23T03:39:10.604608Z"
    }
   },
   "cell_type": "code",
   "source": "len(list(store.yield_keys()))",
   "id": "76727b71828ee997",
   "outputs": [
    {
     "data": {
      "text/plain": [
       "11"
      ]
     },
     "execution_count": 9,
     "metadata": {},
     "output_type": "execute_result"
    }
   ],
   "execution_count": 9
  },
  {
   "metadata": {
    "ExecuteTime": {
     "end_time": "2025-09-23T04:06:44.575128Z",
     "start_time": "2025-09-23T04:06:40.924922Z"
    }
   },
   "cell_type": "code",
   "source": [
    "from langchain.prompts import ChatPromptTemplate\n",
    "from langchain.schema.runnable import RunnableMap\n",
    "from langchain.schema.output_parser import StrOutputParser\n",
    "\n",
    "# 创建 prompt 模板\n",
    "template = \"\"\"You are an assistant for question-answering tasks.\n",
    "Use the following pieces of retieved context to answer the question.\n",
    "If you don't know the answer,  just say that you don't know.\n",
    "Use two sentences maximum and keep the answer concise.\n",
    "Question: {question}\n",
    "Context: {context}\n",
    "Answer:\n",
    "\"\"\"\n",
    "\n",
    "# 由模板生成 prompt\n",
    "prompt = ChatPromptTemplate.from_template(template)\n",
    "\n",
    "# 创建 chain\n",
    "chain = RunnableMap({\n",
    "    \"context\": lambda x: retriever.get_relevant_documents(x[\"question\"]),\n",
    "    \"question\": lambda x: x[\"question\"]\n",
    "}) | prompt | llm | StrOutputParser()\n",
    "\n",
    "query = \"客户经理被投诉了，投诉一次扣多少分？\"\n",
    "response = chain.invoke({\"question\": query})\n",
    "print(response)"
   ],
   "id": "ee8c0018acb125b0",
   "outputs": [
    {
     "name": "stdout",
     "output_type": "stream",
     "text": [
      "客户经理被投诉一次扣2分。  \n",
      "依据是《浦发上海浦东发展银行西安分行个金客户经理考核办法》中规定：有客户投诉的，每投诉一次扣2分。\n"
     ]
    }
   ],
   "execution_count": 17
  },
  {
   "metadata": {
    "ExecuteTime": {
     "end_time": "2025-09-23T04:06:57.441176Z",
     "start_time": "2025-09-23T04:06:46.985434Z"
    }
   },
   "cell_type": "code",
   "source": [
    "from datasets import Dataset\n",
    "\n",
    "questions = [\n",
    "    \"客户经理被投诉了，投诉一次扣多少分？\",\n",
    "    \"客户经理每年评聘申报时间是怎样的？\",\n",
    "    \"客户经理在工作中有不廉洁自律情况的，发现一次扣多少分？\",\n",
    "    \"客户经理不服从支行工作安排，每次扣多少分？\",\n",
    "    \"客户经理需要什么学历和工作经验才能入职？\",\n",
    "    \"个金客户经理职位设置有哪些？\"\n",
    "]\n",
    "\n",
    "ground_truths = [\n",
    "    \"每投诉一次扣2分\",\n",
    "    \"每年一月份为客户经理评聘的申报时间\",\n",
    "    \"在工作中有不廉洁自律情况的每发现一次扣50分\",\n",
    "    \"不服从支行工作安排，每次扣2分\",\n",
    "    \"须具备大专以上学历，至少二年以上银行工作经验\",\n",
    "    \"个金客户经理职位设置为：客户经理助理、客户经理、高级客户经理、资深客户经理\"\n",
    "]\n",
    "\n",
    "answers = []\n",
    "contexts = []\n",
    "\n",
    "for query in questions:\n",
    "    answers.append(chain.invoke({\"question\": query}))\n",
    "    contexts.append([docs.page_content for docs in retriever.get_relevant_documents(query)])\n",
    "\n",
    "data = {\n",
    "    \"user_input\": questions,\n",
    "    \"response\": answers,\n",
    "    \"retrieved_contexts\": contexts,\n",
    "    \"reference\": ground_truths\n",
    "}\n",
    "\n",
    "dataset = Dataset.from_dict(data)\n",
    "dataset\n"
   ],
   "id": "d50ea4dec1f50c5f",
   "outputs": [
    {
     "data": {
      "text/plain": [
       "Dataset({\n",
       "    features: ['user_input', 'response', 'retrieved_contexts', 'reference'],\n",
       "    num_rows: 6\n",
       "})"
      ]
     },
     "execution_count": 18,
     "metadata": {},
     "output_type": "execute_result"
    }
   ],
   "execution_count": 18
  },
  {
   "metadata": {
    "ExecuteTime": {
     "end_time": "2025-09-23T04:17:02.161136Z",
     "start_time": "2025-09-23T04:16:45.905309Z"
    }
   },
   "cell_type": "code",
   "source": "from ragas import evaluate\nfrom ragas.metrics import (\n    faithfulness,\n    answer_relevancy,\n    context_recall,\n    context_precision,\n)\n\n# 使用相同的LLM进行评估\nresult = evaluate(\n    dataset = dataset,\n    metrics=[\n        context_precision,\n        context_recall,\n        faithfulness,\n        answer_relevancy,\n    ],\n    llm=llm,\n    embeddings=embeddings\n)\n\ndf = result.to_pandas()\ndf",
   "id": "d4c0977fb373d7ab",
   "outputs": [
    {
     "name": "stderr",
     "output_type": "stream",
     "text": [
      "Evaluating: 100%|██████████| 24/24 [00:12<00:00,  1.96it/s]\n"
     ]
    },
    {
     "data": {
      "text/plain": [
       "                    user_input  \\\n",
       "0           客户经理被投诉了，投诉一次扣多少分？   \n",
       "1            客户经理每年评聘申报时间是怎样的？   \n",
       "2  客户经理在工作中有不廉洁自律情况的，发现一次扣多少分？   \n",
       "3        客户经理不服从支行工作安排，每次扣多少分？   \n",
       "4         客户经理需要什么学历和工作经验才能入职？   \n",
       "5               个金客户经理职位设置有哪些？   \n",
       "\n",
       "                                  retrieved_contexts  \\\n",
       "0  [百度文库 - 好好学习，天天向上 \\n-5 \\n第五章  工作质量考核标准 \\n第九条  ...   \n",
       "1  [百度文库 - 好好学习，天天向上 \\n-6 \\nC.发生逾期超过3 个月，无论金额大小和笔...   \n",
       "2  [百度文库 - 好好学习，天天向上 \\n-5 \\n第五章  工作质量考核标准 \\n第九条  ...   \n",
       "3  [百度文库 - 好好学习，天天向上 \\n-5 \\n第五章  工作质量考核标准 \\n第九条  ...   \n",
       "4                                                 []   \n",
       "5                                                 []   \n",
       "\n",
       "                                            response  \\\n",
       "0  客户经理被投诉一次扣2分。  \\n依据是《浦发上海浦东发展银行西安分行个金客户经理考核办法》...   \n",
       "1              客户经理每年的评聘申报时间为一月份。申报后由分行在二月份组织统一资格考试。   \n",
       "2                       客户经理在工作中有不廉洁自律情况的，每发现一次扣50分。   \n",
       "3    客户经理不服从支行工作安排，每次扣2分。  \\n不认真参加分（支）行宣传活动的，每次也扣2分。   \n",
       "4     您提供的上下文中没有包含关于客户经理入职所需的学历和工作经验的信息。因此，我无法回答该问题。   \n",
       "5             我不知道个金客户经理职位设置的具体内容。  \\n因为没有提供相关上下文信息。   \n",
       "\n",
       "                               reference  context_precision  context_recall  \\\n",
       "0                               每投诉一次扣2分                1.0             1.0   \n",
       "1                      每年一月份为客户经理评聘的申报时间                1.0             1.0   \n",
       "2                 在工作中有不廉洁自律情况的每发现一次扣50分                1.0             1.0   \n",
       "3                        不服从支行工作安排，每次扣2分                1.0             1.0   \n",
       "4                 须具备大专以上学历，至少二年以上银行工作经验                0.0             0.0   \n",
       "5  个金客户经理职位设置为：客户经理助理、客户经理、高级客户经理、资深客户经理                0.0             0.0   \n",
       "\n",
       "   faithfulness  answer_relevancy  \n",
       "0           0.5          0.992074  \n",
       "1           1.0          0.935945  \n",
       "2           1.0          0.912716  \n",
       "3           1.0          0.849680  \n",
       "4           1.0          0.000000  \n",
       "5           1.0          0.000000  "
      ],
      "text/html": [
       "<div>\n",
       "<style scoped>\n",
       "    .dataframe tbody tr th:only-of-type {\n",
       "        vertical-align: middle;\n",
       "    }\n",
       "\n",
       "    .dataframe tbody tr th {\n",
       "        vertical-align: top;\n",
       "    }\n",
       "\n",
       "    .dataframe thead th {\n",
       "        text-align: right;\n",
       "    }\n",
       "</style>\n",
       "<table border=\"1\" class=\"dataframe\">\n",
       "  <thead>\n",
       "    <tr style=\"text-align: right;\">\n",
       "      <th></th>\n",
       "      <th>user_input</th>\n",
       "      <th>retrieved_contexts</th>\n",
       "      <th>response</th>\n",
       "      <th>reference</th>\n",
       "      <th>context_precision</th>\n",
       "      <th>context_recall</th>\n",
       "      <th>faithfulness</th>\n",
       "      <th>answer_relevancy</th>\n",
       "    </tr>\n",
       "  </thead>\n",
       "  <tbody>\n",
       "    <tr>\n",
       "      <th>0</th>\n",
       "      <td>客户经理被投诉了，投诉一次扣多少分？</td>\n",
       "      <td>[百度文库 - 好好学习，天天向上 \\n-5 \\n第五章  工作质量考核标准 \\n第九条  ...</td>\n",
       "      <td>客户经理被投诉一次扣2分。  \\n依据是《浦发上海浦东发展银行西安分行个金客户经理考核办法》...</td>\n",
       "      <td>每投诉一次扣2分</td>\n",
       "      <td>1.0</td>\n",
       "      <td>1.0</td>\n",
       "      <td>0.5</td>\n",
       "      <td>0.992074</td>\n",
       "    </tr>\n",
       "    <tr>\n",
       "      <th>1</th>\n",
       "      <td>客户经理每年评聘申报时间是怎样的？</td>\n",
       "      <td>[百度文库 - 好好学习，天天向上 \\n-6 \\nC.发生逾期超过3 个月，无论金额大小和笔...</td>\n",
       "      <td>客户经理每年的评聘申报时间为一月份。申报后由分行在二月份组织统一资格考试。</td>\n",
       "      <td>每年一月份为客户经理评聘的申报时间</td>\n",
       "      <td>1.0</td>\n",
       "      <td>1.0</td>\n",
       "      <td>1.0</td>\n",
       "      <td>0.935945</td>\n",
       "    </tr>\n",
       "    <tr>\n",
       "      <th>2</th>\n",
       "      <td>客户经理在工作中有不廉洁自律情况的，发现一次扣多少分？</td>\n",
       "      <td>[百度文库 - 好好学习，天天向上 \\n-5 \\n第五章  工作质量考核标准 \\n第九条  ...</td>\n",
       "      <td>客户经理在工作中有不廉洁自律情况的，每发现一次扣50分。</td>\n",
       "      <td>在工作中有不廉洁自律情况的每发现一次扣50分</td>\n",
       "      <td>1.0</td>\n",
       "      <td>1.0</td>\n",
       "      <td>1.0</td>\n",
       "      <td>0.912716</td>\n",
       "    </tr>\n",
       "    <tr>\n",
       "      <th>3</th>\n",
       "      <td>客户经理不服从支行工作安排，每次扣多少分？</td>\n",
       "      <td>[百度文库 - 好好学习，天天向上 \\n-5 \\n第五章  工作质量考核标准 \\n第九条  ...</td>\n",
       "      <td>客户经理不服从支行工作安排，每次扣2分。  \\n不认真参加分（支）行宣传活动的，每次也扣2分。</td>\n",
       "      <td>不服从支行工作安排，每次扣2分</td>\n",
       "      <td>1.0</td>\n",
       "      <td>1.0</td>\n",
       "      <td>1.0</td>\n",
       "      <td>0.849680</td>\n",
       "    </tr>\n",
       "    <tr>\n",
       "      <th>4</th>\n",
       "      <td>客户经理需要什么学历和工作经验才能入职？</td>\n",
       "      <td>[]</td>\n",
       "      <td>您提供的上下文中没有包含关于客户经理入职所需的学历和工作经验的信息。因此，我无法回答该问题。</td>\n",
       "      <td>须具备大专以上学历，至少二年以上银行工作经验</td>\n",
       "      <td>0.0</td>\n",
       "      <td>0.0</td>\n",
       "      <td>1.0</td>\n",
       "      <td>0.000000</td>\n",
       "    </tr>\n",
       "    <tr>\n",
       "      <th>5</th>\n",
       "      <td>个金客户经理职位设置有哪些？</td>\n",
       "      <td>[]</td>\n",
       "      <td>我不知道个金客户经理职位设置的具体内容。  \\n因为没有提供相关上下文信息。</td>\n",
       "      <td>个金客户经理职位设置为：客户经理助理、客户经理、高级客户经理、资深客户经理</td>\n",
       "      <td>0.0</td>\n",
       "      <td>0.0</td>\n",
       "      <td>1.0</td>\n",
       "      <td>0.000000</td>\n",
       "    </tr>\n",
       "  </tbody>\n",
       "</table>\n",
       "</div>"
      ]
     },
     "execution_count": 24,
     "metadata": {},
     "output_type": "execute_result"
    }
   ],
   "execution_count": 24
  }
 ],
 "metadata": {
  "kernelspec": {
   "display_name": "Python 3",
   "language": "python",
   "name": "python3"
  },
  "language_info": {
   "codemirror_mode": {
    "name": "ipython",
    "version": 2
   },
   "file_extension": ".py",
   "mimetype": "text/x-python",
   "name": "python",
   "nbconvert_exporter": "python",
   "pygments_lexer": "ipython2",
   "version": "2.7.6"
  }
 },
 "nbformat": 4,
 "nbformat_minor": 5
}
